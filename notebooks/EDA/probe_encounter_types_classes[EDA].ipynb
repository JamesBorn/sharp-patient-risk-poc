{
 "cells": [
  {
   "cell_type": "markdown",
   "metadata": {},
   "source": [
    "## Ran a bunch of queries to examine encounter types, and count the frequencies."
   ]
  },
  {
   "cell_type": "code",
   "execution_count": 1,
   "metadata": {
    "collapsed": true
   },
   "outputs": [],
   "source": [
    "import pandas as pd\n",
    "import numpy as np\n",
    "import matplotlib.pyplot as plt\n",
    "import datetime as datetime\n",
    "from impala.util import as_pandas\n",
    "%matplotlib notebook\n",
    "plt.style.use('ggplot')"
   ]
  },
  {
   "cell_type": "code",
   "execution_count": 2,
   "metadata": {
    "collapsed": true
   },
   "outputs": [],
   "source": [
    "from impala.dbapi import connect\n",
    "conn = connect(host=\"socbddn01.sharp.com\", port=21050)\n",
    "cur = conn.cursor()\n",
    "cur.execute(\"use poc_sandbox\")"
   ]
  },
  {
   "cell_type": "code",
   "execution_count": 19,
   "metadata": {
    "collapsed": false
   },
   "outputs": [
    {
     "data": {
      "text/plain": [
       "[('670839', 'Urgent', 311),\n",
       " ('309203', 'Emergency', 262),\n",
       " ('0', None, 37),\n",
       " ('670840', 'Elective', 82)]"
      ]
     },
     "execution_count": 19,
     "metadata": {},
     "output_type": "execute_result"
    }
   ],
   "source": [
    "query_admit_RRT = \"SELECT enc.admit_type_cd, cv_admit_type.description AS admit_type_des, count(1)\\\n",
    "FROM encounter enc \\\n",
    "LEFT OUTER JOIN code_value cv_admit_type ON enc.admit_type_cd = cv_admit_type.code_value \\\n",
    "LEFT OUTER JOIN code_value cv_enc_type ON enc.encntr_type_cd = cv_enc_type.code_value \\\n",
    "LEFT OUTER JOIN code_value cv_enc_type_class ON enc.encntr_type_class_cd = cv_enc_type_class.code_value \\\n",
    "WHERE enc.encntr_id IN (SELECT encntr_id \\\n",
    "                    FROM clinical_event \\\n",
    "                    WHERE event_cd = '54411998' \\\n",
    "                    AND result_status_cd NOT IN ('31', '36') \\\n",
    "                    AND valid_until_dt_tm > 4000000000000 \\\n",
    "                    AND event_class_cd not in ('654645')) \\\n",
    "AND (enc.encntr_complete_dt_tm < 4000000000000) \\\n",
    "AND enc.loc_facility_cd='633867' \\\n",
    "GROUP BY enc.admit_type_cd, admit_type_des;\"\n",
    "cur.execute(query_admit_RRT)\n",
    "cur.fetchall()\n",
    "\n"
   ]
  },
  {
   "cell_type": "code",
   "execution_count": 20,
   "metadata": {
    "collapsed": false
   },
   "outputs": [
    {
     "data": {
      "text/plain": [
       "[('4659953', 'Delivery, Unscheduled', 9),\n",
       " ('670839', 'Urgent', 5023),\n",
       " ('4659954', 'Newborn GT 24Hrs Old', 1),\n",
       " ('309203', 'Emergency', 3917),\n",
       " ('4659952', 'Delivery, Scheduled', 1),\n",
       " ('0', None, 229671),\n",
       " ('670840', 'Elective', 2449)]"
      ]
     },
     "execution_count": 20,
     "metadata": {},
     "output_type": "execute_result"
    }
   ],
   "source": [
    "query_admit_NotRRT = \"SELECT enc.admit_type_cd, cv_admit_type.description AS admit_type_des, count(1)\\\n",
    "FROM encounter enc \\\n",
    "LEFT OUTER JOIN code_value cv_admit_type ON enc.admit_type_cd = cv_admit_type.code_value \\\n",
    "LEFT OUTER JOIN code_value cv_enc_type ON enc.encntr_type_cd = cv_enc_type.code_value \\\n",
    "LEFT OUTER JOIN code_value cv_enc_type_class ON enc.encntr_type_class_cd = cv_enc_type_class.code_value \\\n",
    "WHERE enc.encntr_id NOT IN (SELECT encntr_id \\\n",
    "                    FROM clinical_event \\\n",
    "                    WHERE event_cd = '54411998' \\\n",
    "                    AND result_status_cd NOT IN ('31', '36') \\\n",
    "                    AND valid_until_dt_tm > 4000000000000 \\\n",
    "                    AND event_class_cd not in ('654645')) \\\n",
    "AND (enc.encntr_complete_dt_tm < 4000000000000) \\\n",
    "AND enc.loc_facility_cd='633867' \\\n",
    "GROUP BY enc.admit_type_cd, admit_type_des;\"\n",
    "cur.execute(query_admit_NotRRT)\n",
    "cur.fetchall()\n",
    "\n"
   ]
  },
  {
   "cell_type": "code",
   "execution_count": 22,
   "metadata": {
    "collapsed": false
   },
   "outputs": [
    {
     "data": {
      "text/plain": [
       "[(241071,)]"
      ]
     },
     "execution_count": 22,
     "metadata": {},
     "output_type": "execute_result"
    }
   ],
   "source": [
    "query_count_NotRRT = \"SELECT count(1) FROM \\\n",
    "(SELECT enc.admit_type_cd \\\n",
    "FROM encounter enc \\\n",
    "LEFT OUTER JOIN code_value cv_admit_type ON enc.admit_type_cd = cv_admit_type.code_value \\\n",
    "LEFT OUTER JOIN code_value cv_enc_type ON enc.encntr_type_cd = cv_enc_type.code_value \\\n",
    "LEFT OUTER JOIN code_value cv_enc_type_class ON enc.encntr_type_class_cd = cv_enc_type_class.code_value \\\n",
    "WHERE enc.encntr_id NOT IN (SELECT encntr_id \\\n",
    "                    FROM clinical_event \\\n",
    "                    WHERE event_cd = '54411998' \\\n",
    "                    AND result_status_cd NOT IN ('31', '36') \\\n",
    "                    AND valid_until_dt_tm > 4000000000000 \\\n",
    "                    AND event_class_cd not in ('654645')) \\\n",
    "AND (enc.encntr_complete_dt_tm < 4000000000000) \\\n",
    "AND enc.loc_facility_cd='633867') t;\"\n",
    "# AND enc.admit_type_cd!='0') t ;\"\n",
    "cur.execute(query_count_NotRRT)\n",
    "cur.fetchall()\n",
    "\n"
   ]
  },
  {
   "cell_type": "code",
   "execution_count": 28,
   "metadata": {
    "collapsed": false
   },
   "outputs": [
    {
     "data": {
      "text/plain": [
       "[('391', 'Inpatient', 670),\n",
       " ('393', 'Outpatient', 3),\n",
       " ('392', 'Observation', 19)]"
      ]
     },
     "execution_count": 28,
     "metadata": {},
     "output_type": "execute_result"
    }
   ],
   "source": [
    "query_enctypecl_RRT = \"SELECT enc.encntr_type_class_cd , cv_enc_type_class.description AS enc_type_class_desc, count(1)\\\n",
    "FROM encounter enc \\\n",
    "LEFT OUTER JOIN code_value cv_admit_type ON enc.admit_type_cd = cv_admit_type.code_value \\\n",
    "LEFT OUTER JOIN code_value cv_enc_type ON enc.encntr_type_cd = cv_enc_type.code_value \\\n",
    "LEFT OUTER JOIN code_value cv_enc_type_class ON enc.encntr_type_class_cd = cv_enc_type_class.code_value \\\n",
    "WHERE enc.encntr_id IN (SELECT encntr_id \\\n",
    "                    FROM clinical_event \\\n",
    "                    WHERE event_cd = '54411998' \\\n",
    "                    AND result_status_cd NOT IN ('31', '36') \\\n",
    "                    AND valid_until_dt_tm > 4000000000000 \\\n",
    "                    AND event_class_cd not in ('654645')) \\\n",
    "AND (enc.encntr_complete_dt_tm < 4000000000000) \\\n",
    "AND enc.loc_facility_cd='633867' \\\n",
    "GROUP BY enc.encntr_type_class_cd, enc_type_class_desc;\"\n",
    "cur.execute(query_enctypecl_RRT)\n",
    "cur.fetchall()"
   ]
  },
  {
   "cell_type": "code",
   "execution_count": 38,
   "metadata": {
    "collapsed": false
   },
   "outputs": [
    {
     "data": {
      "text/plain": [
       "[('670839', 'Urgent', 311),\n",
       " ('309203', 'Emergency', 262),\n",
       " ('0', None, 15),\n",
       " ('670840', 'Elective', 82)]"
      ]
     },
     "execution_count": 38,
     "metadata": {},
     "output_type": "execute_result"
    }
   ],
   "source": [
    "query_enctypecl_RRT_admit = \"SELECT enc.admit_type_cd, cv_admit_type.description AS admit_type_des, count(1)\\\n",
    "FROM encounter enc \\\n",
    "LEFT OUTER JOIN code_value cv_admit_type ON enc.admit_type_cd = cv_admit_type.code_value \\\n",
    "LEFT OUTER JOIN code_value cv_enc_type ON enc.encntr_type_cd = cv_enc_type.code_value \\\n",
    "LEFT OUTER JOIN code_value cv_enc_type_class ON enc.encntr_type_class_cd = cv_enc_type_class.code_value \\\n",
    "WHERE enc.encntr_id IN (SELECT encntr_id \\\n",
    "                    FROM clinical_event \\\n",
    "                    WHERE event_cd = '54411998' \\\n",
    "                    AND result_status_cd NOT IN ('31', '36') \\\n",
    "                    AND valid_until_dt_tm > 4000000000000 \\\n",
    "                    AND event_class_cd not in ('654645')) \\\n",
    "AND (enc.encntr_complete_dt_tm < 4000000000000) \\\n",
    "AND enc.loc_facility_cd='633867' \\\n",
    "AND enc.encntr_type_class_cd='391'\\\n",
    "GROUP BY enc.admit_type_cd, admit_type_des;\"\n",
    "cur.execute(query_enctypecl_RRT_admit)\n",
    "cur.fetchall()\n",
    "\n",
    "#AND enc.admit_type_cd!='0'  -> 655 results, all inpatient.\\\n",
    "# only \"AND enc.encntr_type_class_cd='391'\\\" -> 670 results, 15 of which have admit_type_cd=0"
   ]
  },
  {
   "cell_type": "code",
   "execution_count": 29,
   "metadata": {
    "collapsed": false
   },
   "outputs": [
    {
     "data": {
      "text/plain": [
       "[('391', 'Inpatient', 12907),\n",
       " ('393', 'Outpatient', 209944),\n",
       " ('0', None, 1),\n",
       " ('397', 'Recurring', 12124),\n",
       " ('392', 'Observation', 6095)]"
      ]
     },
     "execution_count": 29,
     "metadata": {},
     "output_type": "execute_result"
    }
   ],
   "source": [
    "query_enctype_NotRRT = \"SELECT enc.encntr_type_class_cd , cv_enc_type_class.description AS enc_type_class_desc, count(1)\\\n",
    "FROM encounter enc \\\n",
    "LEFT OUTER JOIN code_value cv_admit_type ON enc.admit_type_cd = cv_admit_type.code_value \\\n",
    "LEFT OUTER JOIN code_value cv_enc_type ON enc.encntr_type_cd = cv_enc_type.code_value \\\n",
    "LEFT OUTER JOIN code_value cv_enc_type_class ON enc.encntr_type_class_cd = cv_enc_type_class.code_value \\\n",
    "WHERE enc.encntr_id NOT IN (SELECT encntr_id \\\n",
    "                    FROM clinical_event \\\n",
    "                    WHERE event_cd = '54411998' \\\n",
    "                    AND result_status_cd NOT IN ('31', '36') \\\n",
    "                    AND valid_until_dt_tm > 4000000000000 \\\n",
    "                    AND event_class_cd not in ('654645')) \\\n",
    "AND (enc.encntr_complete_dt_tm < 4000000000000) \\\n",
    "AND enc.loc_facility_cd='633867' \\\n",
    "GROUP BY enc.encntr_type_class_cd, enc_type_class_desc;\"\n",
    "cur.execute(query_enctype_NotRRT)\n",
    "cur.fetchall()"
   ]
  },
  {
   "cell_type": "code",
   "execution_count": 30,
   "metadata": {
    "collapsed": false
   },
   "outputs": [
    {
     "data": {
      "text/plain": [
       "[('391', 'Inpatient', 11388),\n",
       " ('393', 'Outpatient', 2),\n",
       " ('392', 'Observation', 10)]"
      ]
     },
     "execution_count": 30,
     "metadata": {},
     "output_type": "execute_result"
    }
   ],
   "source": [
    "query_enctype_NotRRT_admit = \"SELECT enc.encntr_type_class_cd , cv_enc_type_class.description AS enc_type_class_desc, count(1)\\\n",
    "FROM encounter enc \\\n",
    "LEFT OUTER JOIN code_value cv_admit_type ON enc.admit_type_cd = cv_admit_type.code_value \\\n",
    "LEFT OUTER JOIN code_value cv_enc_type ON enc.encntr_type_cd = cv_enc_type.code_value \\\n",
    "LEFT OUTER JOIN code_value cv_enc_type_class ON enc.encntr_type_class_cd = cv_enc_type_class.code_value \\\n",
    "WHERE enc.encntr_id NOT IN (SELECT encntr_id \\\n",
    "                    FROM clinical_event \\\n",
    "                    WHERE event_cd = '54411998' \\\n",
    "                    AND result_status_cd NOT IN ('31', '36') \\\n",
    "                    AND valid_until_dt_tm > 4000000000000 \\\n",
    "                    AND event_class_cd not in ('654645')) \\\n",
    "AND (enc.encntr_complete_dt_tm < 4000000000000) \\\n",
    "AND enc.loc_facility_cd='633867' \\\n",
    "AND enc.admit_type_cd!='0'\\\n",
    "GROUP BY enc.encntr_type_class_cd, enc_type_class_desc;\"\n",
    "cur.execute(query_enctype_NotRRT_admit)\n",
    "cur.fetchall()\n",
    "\n",
    "# adding in that AND enc.admit_type_cd!='0' clause makes the distros of enctr_type_class_cd match "
   ]
  },
  {
   "cell_type": "code",
   "execution_count": null,
   "metadata": {
    "collapsed": true
   },
   "outputs": [],
   "source": []
  }
 ],
 "metadata": {
  "kernelspec": {
   "display_name": "Python 2",
   "language": "python",
   "name": "python2"
  },
  "language_info": {
   "codemirror_mode": {
    "name": "ipython",
    "version": 2
   },
   "file_extension": ".py",
   "mimetype": "text/x-python",
   "name": "python",
   "nbconvert_exporter": "python",
   "pygments_lexer": "ipython2",
   "version": "2.7.12"
  }
 },
 "nbformat": 4,
 "nbformat_minor": 0
}
